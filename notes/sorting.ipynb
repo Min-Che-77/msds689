{
 "cells": [
  {
   "cell_type": "markdown",
   "metadata": {},
   "source": [
    "# Bubble sort"
   ]
  },
  {
   "cell_type": "code",
   "execution_count": 1,
   "metadata": {},
   "outputs": [],
   "source": [
    "def lprint(A,start=-1,stop=-1):\n",
    "    for i,a in enumerate(A):\n",
    "        print(f\"{a:3}\", end=' ')\n",
    "        print(\"\\b\", end=\"\")\n",
    "        if i>=start and i<=stop: print(\"\\u0332\", end=\"\")\n",
    "        \n",
    "def bubble(A):\n",
    "    swapped=True\n",
    "    second_to_last_idx = len(A)-2\n",
    "    n = 1\n",
    "    while swapped:\n",
    "        swapped=False\n",
    "        print(); lprint(A); print(f\"\\t\\tPass {n}\"); n += 1\n",
    "        for i in range(second_to_last_idx+1):\n",
    "            if A[i] > A[i+1]:\n",
    "                A[i], A[i+1] = A[i+1], A[i]\n",
    "                swapped = True\n",
    "                lprint(A,i,i+1); print(f\"\\t\\tSwap A[{i}], A[{i+1}]\")"
   ]
  },
  {
   "cell_type": "code",
   "execution_count": 2,
   "metadata": {},
   "outputs": [
    {
     "name": "stdout",
     "output_type": "stream",
     "text": [
      "\n",
      "  9  1  4  2 -3\t\tPass 1\n",
      "  1̲  9̲  4  2 -3\t\tSwap A[0], A[1]\n",
      "  1  4̲  9̲  2 -3\t\tSwap A[1], A[2]\n",
      "  1  4  2̲  9̲ -3\t\tSwap A[2], A[3]\n",
      "  1  4  2 -3̲  9̲\t\tSwap A[3], A[4]\n",
      "\n",
      "  1  4  2 -3  9\t\tPass 2\n",
      "  1  2̲  4̲ -3  9\t\tSwap A[1], A[2]\n",
      "  1  2 -3̲  4̲  9\t\tSwap A[2], A[3]\n",
      "\n",
      "  1  2 -3  4  9\t\tPass 3\n",
      "  1 -3̲  2̲  4  9\t\tSwap A[1], A[2]\n",
      "\n",
      "  1 -3  2  4  9\t\tPass 4\n",
      " -3̲  1̲  2  4  9\t\tSwap A[0], A[1]\n",
      "\n",
      " -3  1  2  4  9\t\tPass 5\n"
     ]
    }
   ],
   "source": [
    "A = [9,1,4,2,-3]\n",
    "bubble(A)"
   ]
  },
  {
   "cell_type": "markdown",
   "metadata": {},
   "source": [
    "# Quicksort"
   ]
  },
  {
   "cell_type": "code",
   "execution_count": 3,
   "metadata": {},
   "outputs": [],
   "source": [
    "def partition(A,lo,hi):\n",
    "    pivot = A[hi]    # pick last element as pivot  \n",
    "    left = [a for a in A if a<pivot]\n",
    "    right = [a for a in A if a>pivot]\n",
    "    A[:] = left+[pivot]+right # copy back to A\n",
    "    return len(left) # return index of pivot\n",
    "\n",
    "def partition_inplace(A,lo,hi):\n",
    "    \"\"\"\n",
    "    Wikipedia: reorder the array so that all elements with\n",
    "    values less than the pivot come before the pivot, while\n",
    "    all elements with values greater than the pivot come after\n",
    "    it (equal values can go either way).\n",
    "    \"\"\"\n",
    "    i = lo\n",
    "    pivot = A[hi]    # pick last element as pivot  \n",
    "    for j in range(lo, hi):  \n",
    "        if A[j] < pivot:   \n",
    "            A[i], A[j] = A[j], A[i]\n",
    "            i += 1  \n",
    "    A[i], A[hi] = A[hi], A[i]\n",
    "    return i"
   ]
  },
  {
   "cell_type": "code",
   "execution_count": 4,
   "metadata": {},
   "outputs": [],
   "source": [
    "def qsort(A, lo=0, hi=len(A)-1):\n",
    "    if lo >= hi: return\n",
    "    pivot_idx = partition(A,lo,hi)\n",
    "    qsort(A, lo, pivot_idx-1)\n",
    "    qsort(A, pivot_idx+1, hi)"
   ]
  },
  {
   "cell_type": "code",
   "execution_count": 5,
   "metadata": {},
   "outputs": [
    {
     "name": "stdout",
     "output_type": "stream",
     "text": [
      "[-3, 1, 2, 4, 9]\n"
     ]
    }
   ],
   "source": [
    "A = [9,1,4,2,-3]\n",
    "qsort(A)\n",
    "print(A)"
   ]
  },
  {
   "cell_type": "markdown",
   "metadata": {},
   "source": [
    "# Pigeonhole sort"
   ]
  },
  {
   "cell_type": "code",
   "execution_count": 6,
   "metadata": {},
   "outputs": [
    {
     "data": {
      "text/plain": [
       "[1, 2, 2, 4, 8, 9, 9]"
      ]
     },
     "execution_count": 6,
     "metadata": {},
     "output_type": "execute_result"
    }
   ],
   "source": [
    "# avoid negative numbers for simplicity\n",
    "# also assume min(A) is close to 0\n",
    "def psort(A:list) -> list:\n",
    "    size = max(A) + 1\n",
    "    holes = [0] * size\n",
    "    for a in A:\n",
    "        holes[a] += 1\n",
    "    A_ = []\n",
    "    for i in range(0,size):\n",
    "        for j in range(holes[i]):\n",
    "            A_.append(i)\n",
    "    return A_\n",
    "\n",
    "A = [9,1,4,2,8,2,9] \n",
    "psort(A)"
   ]
  },
  {
   "cell_type": "markdown",
   "metadata": {},
   "source": [
    "# Bucket sort"
   ]
  },
  {
   "cell_type": "code",
   "execution_count": 7,
   "metadata": {},
   "outputs": [
    {
     "data": {
      "text/plain": [
       "[11.804791266394357,\n",
       " 22.423513157112097,\n",
       " 29.168281219785566,\n",
       " 59.199674537477186,\n",
       " 82.95439868431124,\n",
       " 85.29372532224569,\n",
       " 89.55433489623617,\n",
       " 90.48012283596572,\n",
       " 91.66632528699428,\n",
       " 105.17740740796278]"
      ]
     },
     "execution_count": 7,
     "metadata": {},
     "output_type": "execute_result"
    }
   ],
   "source": [
    "import numpy as np\n",
    "\n",
    "def bsort(A:list, nbuckets) -> list:\n",
    "    mx = max(A)\n",
    "    buckets = []\n",
    "    max_bucket_idx = nbuckets+1\n",
    "    for i in range(max_bucket_idx + 1):\n",
    "        buckets.append([])\n",
    "    for a in A:\n",
    "        a_normalized = a / mx # get in 0..1\n",
    "        i = int(a_normalized * nbuckets) # spread across buckets\n",
    "        buckets[i].append(a)\n",
    "        \n",
    "    A_ = []\n",
    "    for i in range(max_bucket_idx+1):\n",
    "        A_.extend( sorted(buckets[i]) )\n",
    "    return A_\n",
    "\n",
    "A = np.random.random(size=10) * 100 + 10\n",
    "bsort(A, 5)"
   ]
  },
  {
   "cell_type": "markdown",
   "metadata": {},
   "source": [
    "# Bucket sort on strings"
   ]
  },
  {
   "cell_type": "code",
   "execution_count": 4,
   "metadata": {},
   "outputs": [
    {
     "data": {
      "text/plain": [
       "['ape', 'apple', 'canary', 'cat', 'civet', 'dog', 'zebra']"
      ]
     },
     "execution_count": 4,
     "metadata": {},
     "output_type": "execute_result"
    }
   ],
   "source": [
    "# assume lowercase English letters for simplicity\n",
    "def pstr_sort(A:list) -> list:\n",
    "    size = ord('z') - ord('a') + 1\n",
    "    holes = []\n",
    "    for i in range(size):\n",
    "        holes.append([])\n",
    "    for s in A:\n",
    "        i = ord(s[0])-ord('a')\n",
    "        holes[i].append(s)\n",
    "    #objviz(holes).view()\n",
    "    A_ = []\n",
    "    for i in range(ord('z')-ord('a') + 1):\n",
    "        A_.extend( sorted(holes[i]) )\n",
    "    return A_\n",
    "\n",
    "from lolviz import *\n",
    "\n",
    "A = ['apple', 'ape', 'zebra', 'cat', 'canary', 'civet', 'dog'] \n",
    "pstr_sort(A)\n"
   ]
  },
  {
   "cell_type": "code",
   "execution_count": null,
   "metadata": {},
   "outputs": [],
   "source": []
  }
 ],
 "metadata": {
  "kernelspec": {
   "display_name": "Python 3",
   "language": "python",
   "name": "python3"
  },
  "language_info": {
   "codemirror_mode": {
    "name": "ipython",
    "version": 3
   },
   "file_extension": ".py",
   "mimetype": "text/x-python",
   "name": "python",
   "nbconvert_exporter": "python",
   "pygments_lexer": "ipython3",
   "version": "3.7.4"
  }
 },
 "nbformat": 4,
 "nbformat_minor": 4
}
